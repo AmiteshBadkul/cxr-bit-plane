{
  "cells": [
    {
      "cell_type": "code",
      "source": [
        "# https://dev.to/afrozchakure/hyper-parameter-tuning-to-optimize-ml-models-mobilenet-v2-4jnc\n",
        "# https://datascience.stackexchange.com/questions/46523/is-a-large-number-of-epochs-good-or-bad-idea-in-cnn\n",
        "# https://medium.com/mini-distill/effect-of-batch-size-on-training-dynamics-21c14f7a716e\n",
        "# https://stats.stackexchange.com/questions/164876/what-is-the-trade-off-between-batch-size-and-number-of-iterations-to-train-a-neu\n"
      ],
      "metadata": {
        "id": "4QlKw_OPz3eE"
      },
      "id": "4QlKw_OPz3eE",
      "execution_count": null,
      "outputs": []
    },
    {
      "cell_type": "code",
      "source": [
        "from google.colab import drive\n",
        "drive.mount('/content/drive')"
      ],
      "metadata": {
        "colab": {
          "base_uri": "https://localhost:8080/"
        },
        "id": "COSSdHUDTFSO",
        "outputId": "f5f820f8-84c3-43f1-dd22-323f95cd6b2b"
      },
      "id": "COSSdHUDTFSO",
      "execution_count": null,
      "outputs": [
        {
          "output_type": "stream",
          "name": "stdout",
          "text": [
            "Mounted at /content/drive\n"
          ]
        }
      ]
    },
    {
      "cell_type": "code",
      "source": [
        "%reset -f"
      ],
      "metadata": {
        "id": "X358c1VH15_I"
      },
      "id": "X358c1VH15_I",
      "execution_count": null,
      "outputs": []
    },
    {
      "cell_type": "code",
      "execution_count": null,
      "id": "60eddb2f",
      "metadata": {
        "execution": {
          "iopub.execute_input": "2022-05-10T15:54:23.979881Z",
          "iopub.status.busy": "2022-05-10T15:54:23.979367Z",
          "iopub.status.idle": "2022-05-10T15:54:30.664399Z",
          "shell.execute_reply": "2022-05-10T15:54:30.663369Z"
        },
        "papermill": {
          "duration": 6.742956,
          "end_time": "2022-05-10T15:54:30.667257",
          "exception": false,
          "start_time": "2022-05-10T15:54:23.924301",
          "status": "completed"
        },
        "tags": [],
        "id": "60eddb2f"
      },
      "outputs": [],
      "source": [
        "import os\n",
        "import cv2\n",
        "import numpy as np\n",
        "import pandas as pd\n",
        "import tensorflow as tf\n",
        "import matplotlib.pyplot as plt\n",
        "from tensorflow.keras import models\n",
        "from tensorflow.keras import layers\n",
        "from tensorflow.keras import optimizers\n",
        "from tensorflow.keras.models import Sequential\n",
        "from tensorflow.keras.preprocessing.image import ImageDataGenerator"
      ]
    },
    {
      "cell_type": "markdown",
      "id": "4b0ba4f2",
      "metadata": {
        "papermill": {
          "duration": 0.029961,
          "end_time": "2022-05-10T15:54:30.728208",
          "exception": false,
          "start_time": "2022-05-10T15:54:30.698247",
          "status": "completed"
        },
        "tags": [],
        "id": "4b0ba4f2"
      },
      "source": [
        "# Data Preparation"
      ]
    },
    {
      "cell_type": "code",
      "execution_count": null,
      "id": "aacfbfab",
      "metadata": {
        "_cell_guid": "b1076dfc-b9ad-4769-8c92-a6c4dae69d19",
        "_uuid": "8f2839f25d086af736a60e9eeb907d3b93b6e0e5",
        "execution": {
          "iopub.execute_input": "2022-05-10T15:54:30.789384Z",
          "iopub.status.busy": "2022-05-10T15:54:30.789076Z",
          "iopub.status.idle": "2022-05-10T15:54:30.805687Z",
          "shell.execute_reply": "2022-05-10T15:54:30.804706Z"
        },
        "papermill": {
          "duration": 0.050174,
          "end_time": "2022-05-10T15:54:30.808085",
          "exception": false,
          "start_time": "2022-05-10T15:54:30.757911",
          "status": "completed"
        },
        "tags": [],
        "colab": {
          "base_uri": "https://localhost:8080/"
        },
        "id": "aacfbfab",
        "outputId": "60f79414-24a1-4a0e-f1c8-9d994e360a46"
      },
      "outputs": [
        {
          "output_type": "stream",
          "name": "stdout",
          "text": [
            "['negative', 'positive']\n"
          ]
        }
      ],
      "source": [
        "train_data_dir = \"/content/drive/MyDrive/PersonalProjects/CXR/bp4/train\"\n",
        "val_data_dir = \"/content/drive/MyDrive/PersonalProjects/CXR/bp4/test\"\n",
        "\n",
        "class_subset = sorted(f for f in os.listdir(train_data_dir) if not f.startswith('.'))\n",
        "print(class_subset)"
      ]
    },
    {
      "cell_type": "code",
      "execution_count": null,
      "id": "81a693a5",
      "metadata": {
        "execution": {
          "iopub.execute_input": "2022-05-10T15:54:30.871253Z",
          "iopub.status.busy": "2022-05-10T15:54:30.870426Z",
          "iopub.status.idle": "2022-05-10T15:54:30.878460Z",
          "shell.execute_reply": "2022-05-10T15:54:30.877558Z"
        },
        "papermill": {
          "duration": 0.042019,
          "end_time": "2022-05-10T15:54:30.880830",
          "exception": false,
          "start_time": "2022-05-10T15:54:30.838811",
          "status": "completed"
        },
        "tags": [],
        "id": "81a693a5"
      },
      "outputs": [],
      "source": [
        "#central crop\n",
        "def crop_center_square(image):\n",
        "    img_height, img_width = image.shape[0:2]\n",
        "    min_dim = min(img_height, img_width)\n",
        "    start_x = (img_width // 2) - (min_dim // 2)\n",
        "    start_y = (img_height // 2) - (min_dim // 2)\n",
        "    \n",
        "    img = image[start_y : start_y + min_dim, start_x : start_x + min_dim]\n",
        "    img = cv2.cvtColor(img,cv2.COLOR_BGR2RGB)\n",
        "    return img"
      ]
    },
    {
      "cell_type": "markdown",
      "id": "6bf9da35",
      "metadata": {
        "papermill": {
          "duration": 0.031777,
          "end_time": "2022-05-10T15:54:30.942641",
          "exception": false,
          "start_time": "2022-05-10T15:54:30.910864",
          "status": "completed"
        },
        "tags": [],
        "id": "6bf9da35"
      },
      "source": [
        "# Definte Image Data Generator"
      ]
    },
    {
      "cell_type": "code",
      "execution_count": null,
      "id": "da52e8f0",
      "metadata": {
        "execution": {
          "iopub.execute_input": "2022-05-10T15:54:31.006739Z",
          "iopub.status.busy": "2022-05-10T15:54:31.004922Z",
          "iopub.status.idle": "2022-05-10T15:54:31.013834Z",
          "shell.execute_reply": "2022-05-10T15:54:31.012848Z"
        },
        "papermill": {
          "duration": 0.043329,
          "end_time": "2022-05-10T15:54:31.016399",
          "exception": false,
          "start_time": "2022-05-10T15:54:30.973070",
          "status": "completed"
        },
        "tags": [],
        "id": "da52e8f0"
      },
      "outputs": [],
      "source": [
        "train_generator = ImageDataGenerator(rescale=1/255.,\n",
        "                                     featurewise_center= False,\n",
        "                                     samplewise_center= False,\n",
        "                                     featurewise_std_normalization= False,\n",
        "                                     samplewise_std_normalization=False,\n",
        "                                     rotation_range= 10,     # 0-180\n",
        "                                     zca_whitening=False,\n",
        "                                     zoom_range=0.1,         # Randomly zoom image\n",
        "                                     width_shift_range=0.2,  # randomly shift images horizontally (fraction of total width)\n",
        "                                     height_shift_range=0.2, # randomly shift images vertically (fraction of total height)\n",
        "                                     horizontal_flip=True,   # randomly flip images\n",
        "                                     vertical_flip=False,\n",
        "                                     validation_split=0.0,\n",
        "                                     preprocessing_function=crop_center_square)\n",
        "\n",
        "val_generator  = ImageDataGenerator(rescale=1/255.,\n",
        "                                    preprocessing_function=crop_center_square)"
      ]
    },
    {
      "cell_type": "markdown",
      "id": "aa1ff82b",
      "metadata": {
        "papermill": {
          "duration": 0.03053,
          "end_time": "2022-05-10T15:54:31.077542",
          "exception": false,
          "start_time": "2022-05-10T15:54:31.047012",
          "status": "completed"
        },
        "tags": [],
        "id": "aa1ff82b"
      },
      "source": [
        "# Define Models"
      ]
    },
    {
      "cell_type": "code",
      "execution_count": null,
      "id": "d6de2c30",
      "metadata": {
        "execution": {
          "iopub.execute_input": "2022-05-10T15:54:31.140318Z",
          "iopub.status.busy": "2022-05-10T15:54:31.140015Z",
          "iopub.status.idle": "2022-05-10T15:54:31.149813Z",
          "shell.execute_reply": "2022-05-10T15:54:31.148850Z"
        },
        "papermill": {
          "duration": 0.043825,
          "end_time": "2022-05-10T15:54:31.152070",
          "exception": false,
          "start_time": "2022-05-10T15:54:31.108245",
          "status": "completed"
        },
        "tags": [],
        "id": "d6de2c30"
      },
      "outputs": [],
      "source": [
        "from tensorflow.keras.applications.mobilenet_v2 import MobileNetV2\n",
        "\n",
        "BATCH_SIZE = 8\n",
        "image_size = 224\n",
        "channel = 3\n",
        "lr = 1e-4"
      ]
    },
    {
      "cell_type": "markdown",
      "id": "f63ae7a0",
      "metadata": {
        "papermill": {
          "duration": 0.043825,
          "end_time": "2022-05-10T15:54:41.071101",
          "exception": false,
          "start_time": "2022-05-10T15:54:41.027276",
          "status": "completed"
        },
        "tags": [],
        "id": "f63ae7a0"
      },
      "source": [
        "## MobileNetV2 "
      ]
    },
    {
      "cell_type": "code",
      "execution_count": null,
      "id": "b6fff49c",
      "metadata": {
        "execution": {
          "iopub.execute_input": "2022-05-10T15:54:41.159845Z",
          "iopub.status.busy": "2022-05-10T15:54:41.159509Z",
          "iopub.status.idle": "2022-05-10T15:54:43.575096Z",
          "shell.execute_reply": "2022-05-10T15:54:43.574169Z"
        },
        "papermill": {
          "duration": 2.463758,
          "end_time": "2022-05-10T15:54:43.578335",
          "exception": false,
          "start_time": "2022-05-10T15:54:41.114577",
          "status": "completed"
        },
        "tags": [],
        "id": "b6fff49c",
        "colab": {
          "base_uri": "https://localhost:8080/"
        },
        "outputId": "330fcf5a-7f20-46b5-ee50-fdbb31416b46"
      },
      "outputs": [
        {
          "output_type": "stream",
          "name": "stdout",
          "text": [
            "Downloading data from https://storage.googleapis.com/tensorflow/keras-applications/mobilenet_v2/mobilenet_v2_weights_tf_dim_ordering_tf_kernels_1.0_224_no_top.h5\n",
            "9412608/9406464 [==============================] - 0s 0us/step\n",
            "9420800/9406464 [==============================] - 0s 0us/step\n"
          ]
        }
      ],
      "source": [
        "# MobileNetV2\n",
        "mobilenet_base_model = MobileNetV2(weights='imagenet',\n",
        "                                   include_top= False, \n",
        "                                   input_shape=(image_size, image_size, channel),\n",
        "                                   pooling='avg')\n",
        "\n",
        "mobilenet_base_model.trainable = False\n",
        "\n",
        "mobilenet_model = Sequential()\n",
        "mobilenet_model.add(mobilenet_base_model)\n",
        "mobilenet_model.add(layers.Dense(256,activation='relu'))\n",
        "mobilenet_model.add(layers.Dropout(0.2))\n",
        "mobilenet_model.add(layers.Dense(len(class_subset),activation=\"softmax\"))\n",
        "\n",
        "mobilenet_model.compile(optimizer=optimizers.Adam(learning_rate = lr), \n",
        "                        loss='categorical_crossentropy', \n",
        "                        metrics=['accuracy'])"
      ]
    },
    {
      "cell_type": "markdown",
      "id": "a7a9a048",
      "metadata": {
        "papermill": {
          "duration": 0.08631,
          "end_time": "2022-05-10T15:55:09.462316",
          "exception": false,
          "start_time": "2022-05-10T15:55:09.376006",
          "status": "completed"
        },
        "tags": [],
        "id": "a7a9a048"
      },
      "source": [
        "## Define data generators"
      ]
    },
    {
      "cell_type": "code",
      "execution_count": null,
      "id": "58a22e9f",
      "metadata": {
        "execution": {
          "iopub.execute_input": "2022-05-10T15:55:09.635670Z",
          "iopub.status.busy": "2022-05-10T15:55:09.635346Z",
          "iopub.status.idle": "2022-05-10T15:55:17.144317Z",
          "shell.execute_reply": "2022-05-10T15:55:17.143300Z"
        },
        "papermill": {
          "duration": 7.598931,
          "end_time": "2022-05-10T15:55:17.146616",
          "exception": false,
          "start_time": "2022-05-10T15:55:09.547685",
          "status": "completed"
        },
        "tags": [],
        "colab": {
          "base_uri": "https://localhost:8080/"
        },
        "id": "58a22e9f",
        "outputId": "df9fd4e9-d31d-4973-8065-25e12f556530"
      },
      "outputs": [
        {
          "output_type": "stream",
          "name": "stdout",
          "text": [
            "Found 676 images belonging to 2 classes.\n",
            "Found 408 images belonging to 2 classes.\n"
          ]
        }
      ],
      "source": [
        "traingen = train_generator.flow_from_directory(train_data_dir,\n",
        "                                               target_size=(image_size, image_size),\n",
        "                                               class_mode='categorical',\n",
        "                                               classes=class_subset,\n",
        "                                               subset='training',\n",
        "                                               batch_size=BATCH_SIZE, \n",
        "                                               shuffle=True,\n",
        "                                               seed=21)\n",
        "\n",
        "validgen = val_generator.flow_from_directory(val_data_dir,\n",
        "                                             target_size=(image_size, image_size),\n",
        "                                             classes=class_subset,\n",
        "                                             batch_size=BATCH_SIZE,\n",
        "                                             shuffle=True,\n",
        "                                             seed=21)\n"
      ]
    },
    {
      "cell_type": "code",
      "execution_count": null,
      "id": "5500bded",
      "metadata": {
        "execution": {
          "iopub.execute_input": "2022-05-10T15:55:17.321367Z",
          "iopub.status.busy": "2022-05-10T15:55:17.321074Z",
          "iopub.status.idle": "2022-05-10T15:55:17.328114Z",
          "shell.execute_reply": "2022-05-10T15:55:17.327153Z"
        },
        "papermill": {
          "duration": 0.097545,
          "end_time": "2022-05-10T15:55:17.330625",
          "exception": false,
          "start_time": "2022-05-10T15:55:17.233080",
          "status": "completed"
        },
        "tags": [],
        "id": "5500bded"
      },
      "outputs": [],
      "source": [
        "model_dict = {\n",
        "    \"mobilenetv2\": mobilenet_model\n",
        "}\n",
        "\n",
        "weightfile_dict = {\n",
        "    \"mobilenetv2\" : 'mobilenetv2_model.hdf5'\n",
        "}\n",
        "\n",
        "historyfile_dict = {\n",
        "    \"mobilenetv2\" : 'mobilenetv2_history.csv'\n",
        "}"
      ]
    },
    {
      "cell_type": "code",
      "execution_count": null,
      "id": "7fbd503c",
      "metadata": {
        "execution": {
          "iopub.execute_input": "2022-05-10T15:55:17.504430Z",
          "iopub.status.busy": "2022-05-10T15:55:17.504121Z",
          "iopub.status.idle": "2022-05-10T15:55:17.509428Z",
          "shell.execute_reply": "2022-05-10T15:55:17.508441Z"
        },
        "papermill": {
          "duration": 0.094619,
          "end_time": "2022-05-10T15:55:17.511582",
          "exception": false,
          "start_time": "2022-05-10T15:55:17.416963",
          "status": "completed"
        },
        "tags": [],
        "id": "7fbd503c"
      },
      "outputs": [],
      "source": [
        "class_indices = traingen.class_indices\n",
        "class_indices = dict((v,k) for k,v in class_indices.items())"
      ]
    },
    {
      "cell_type": "markdown",
      "id": "b0ec79dd",
      "metadata": {
        "papermill": {
          "duration": 0.087446,
          "end_time": "2022-05-10T15:55:17.687373",
          "exception": false,
          "start_time": "2022-05-10T15:55:17.599927",
          "status": "completed"
        },
        "tags": [],
        "id": "b0ec79dd"
      },
      "source": [
        "# Modeling Training & Evaluation"
      ]
    },
    {
      "cell_type": "code",
      "execution_count": null,
      "id": "a85a7c81",
      "metadata": {
        "execution": {
          "iopub.execute_input": "2022-05-10T15:55:17.864530Z",
          "iopub.status.busy": "2022-05-10T15:55:17.864219Z",
          "iopub.status.idle": "2022-05-10T15:55:19.166844Z",
          "shell.execute_reply": "2022-05-10T15:55:19.165514Z"
        },
        "papermill": {
          "duration": 1.3944,
          "end_time": "2022-05-10T15:55:19.171340",
          "exception": false,
          "start_time": "2022-05-10T15:55:17.776940",
          "status": "completed"
        },
        "tags": [],
        "id": "a85a7c81"
      },
      "outputs": [],
      "source": [
        "from sklearn.metrics import confusion_matrix\n",
        "from sklearn.metrics import classification_report\n",
        "from sklearn.metrics import accuracy_score\n",
        "from mlxtend.plotting import plot_confusion_matrix\n",
        "from tensorflow.keras.callbacks import ModelCheckpoint, EarlyStopping\n",
        "from tensorflow.keras.callbacks import ReduceLROnPlateau\n",
        "from tensorflow.keras.callbacks import CSVLogger"
      ]
    },
    {
      "cell_type": "code",
      "execution_count": null,
      "id": "55ecb0df",
      "metadata": {
        "execution": {
          "iopub.execute_input": "2022-05-10T15:55:19.639870Z",
          "iopub.status.busy": "2022-05-10T15:55:19.639535Z",
          "iopub.status.idle": "2022-05-10T19:07:50.006989Z",
          "shell.execute_reply": "2022-05-10T19:07:50.005818Z"
        },
        "papermill": {
          "duration": 11550.461041,
          "end_time": "2022-05-10T19:07:50.009440",
          "exception": false,
          "start_time": "2022-05-10T15:55:19.548399",
          "status": "completed"
        },
        "tags": [],
        "colab": {
          "base_uri": "https://localhost:8080/"
        },
        "id": "55ecb0df",
        "outputId": "1e4179c7-4dc3-40eb-dada-4ed596182681"
      },
      "outputs": [
        {
          "output_type": "stream",
          "name": "stdout",
          "text": [
            "WARNING:tensorflow:`epsilon` argument is deprecated and will be removed, use `min_delta` instead.\n",
            "Training MOBILENETV2 \n",
            "\n",
            "Epoch 1/50\n",
            "84/84 [==============================] - ETA: 0s - loss: 0.4982 - accuracy: 0.7799\n",
            "Epoch 1: val_accuracy improved from -inf to 0.79167, saving model to mobilenetv2_model.hdf5\n",
            "84/84 [==============================] - 412s 5s/step - loss: 0.4982 - accuracy: 0.7799 - val_loss: 0.4704 - val_accuracy: 0.7917\n",
            "Epoch 2/50\n",
            "84/84 [==============================] - ETA: 0s - loss: 0.2877 - accuracy: 0.8847\n",
            "Epoch 2: val_accuracy improved from 0.79167 to 0.82353, saving model to mobilenetv2_model.hdf5\n",
            "84/84 [==============================] - 30s 360ms/step - loss: 0.2877 - accuracy: 0.8847 - val_loss: 0.3971 - val_accuracy: 0.8235\n",
            "Epoch 3/50\n",
            "84/84 [==============================] - ETA: 0s - loss: 0.2609 - accuracy: 0.8982\n",
            "Epoch 3: val_accuracy did not improve from 0.82353\n",
            "84/84 [==============================] - 29s 349ms/step - loss: 0.2609 - accuracy: 0.8982 - val_loss: 0.4242 - val_accuracy: 0.8137\n",
            "Epoch 4/50\n",
            "84/84 [==============================] - ETA: 0s - loss: 0.2541 - accuracy: 0.9042\n",
            "Epoch 4: val_accuracy improved from 0.82353 to 0.83824, saving model to mobilenetv2_model.hdf5\n",
            "84/84 [==============================] - 30s 357ms/step - loss: 0.2541 - accuracy: 0.9042 - val_loss: 0.3890 - val_accuracy: 0.8382\n",
            "Epoch 5/50\n",
            "84/84 [==============================] - ETA: 0s - loss: 0.2293 - accuracy: 0.9251\n",
            "Epoch 5: val_accuracy improved from 0.83824 to 0.84559, saving model to mobilenetv2_model.hdf5\n",
            "84/84 [==============================] - 30s 360ms/step - loss: 0.2293 - accuracy: 0.9251 - val_loss: 0.3909 - val_accuracy: 0.8456\n",
            "Epoch 6/50\n",
            "84/84 [==============================] - ETA: 0s - loss: 0.2304 - accuracy: 0.9162\n",
            "Epoch 6: val_accuracy improved from 0.84559 to 0.85784, saving model to mobilenetv2_model.hdf5\n",
            "84/84 [==============================] - 30s 356ms/step - loss: 0.2304 - accuracy: 0.9162 - val_loss: 0.3247 - val_accuracy: 0.8578\n",
            "Epoch 7/50\n",
            "84/84 [==============================] - ETA: 0s - loss: 0.2211 - accuracy: 0.9132\n",
            "Epoch 7: val_accuracy did not improve from 0.85784\n",
            "84/84 [==============================] - 30s 355ms/step - loss: 0.2211 - accuracy: 0.9132 - val_loss: 0.3932 - val_accuracy: 0.8554\n",
            "Epoch 8/50\n",
            "84/84 [==============================] - ETA: 0s - loss: 0.2107 - accuracy: 0.9281\n",
            "Epoch 8: val_accuracy did not improve from 0.85784\n",
            "84/84 [==============================] - 30s 355ms/step - loss: 0.2107 - accuracy: 0.9281 - val_loss: 0.4482 - val_accuracy: 0.8431\n",
            "Epoch 9/50\n",
            "84/84 [==============================] - ETA: 0s - loss: 0.2133 - accuracy: 0.9222\n",
            "Epoch 9: val_accuracy did not improve from 0.85784\n",
            "84/84 [==============================] - 30s 355ms/step - loss: 0.2133 - accuracy: 0.9222 - val_loss: 0.3666 - val_accuracy: 0.8529\n"
          ]
        }
      ],
      "source": [
        "n_epochs = 50\n",
        "\n",
        "# Callback Function: EarlyStopping\n",
        "early_stop = EarlyStopping(monitor='val_accuracy', patience=3, restore_best_weights=True, mode='max')\n",
        "\n",
        "# Callback Function: Reduce learning rate on plateau\n",
        "red_lr = ReduceLROnPlateau(monitor='val_loss', factor=0.1, epsilon=0.0001, patience=2, verbose=1)\n",
        "\n",
        "for key in model_dict:\n",
        "    print (\"Training {} \".format(key.upper()))\n",
        "    print (\"\")\n",
        "\n",
        "    model = model_dict[key]\n",
        "\n",
        "    best_checkpoint = ModelCheckpoint(weightfile_dict[key],\n",
        "                                      save_weights_only=False, \n",
        "                                      save_best_only=True,\n",
        "                                      monitor='val_accuracy',\n",
        "                                      mode='max',\n",
        "                                      verbose=1)\n",
        "\n",
        "    history_logger = CSVLogger(historyfile_dict[key], separator=\",\", append=True)\n",
        "\n",
        "    history = model.fit(traingen,\n",
        "                        batch_size=BATCH_SIZE,\n",
        "                        epochs=n_epochs,\n",
        "                        validation_data=validgen,\n",
        "                        steps_per_epoch=traingen.samples // BATCH_SIZE,\n",
        "                        validation_steps=validgen.samples // BATCH_SIZE,\n",
        "                        callbacks=[best_checkpoint, history_logger, early_stop], #red_lr\n",
        "                        verbose=1)"
      ]
    },
    {
      "cell_type": "markdown",
      "id": "4b3ccc27",
      "metadata": {
        "papermill": {
          "duration": 6.608277,
          "end_time": "2022-05-10T19:08:03.461302",
          "exception": false,
          "start_time": "2022-05-10T19:07:56.853025",
          "status": "completed"
        },
        "tags": [],
        "id": "4b3ccc27"
      },
      "source": [
        "# Plot Graphs"
      ]
    },
    {
      "cell_type": "code",
      "source": [
        "import seaborn as sns\n",
        "sns.set_theme()"
      ],
      "metadata": {
        "id": "6a7Kve5_3wjI"
      },
      "id": "6a7Kve5_3wjI",
      "execution_count": null,
      "outputs": []
    },
    {
      "cell_type": "code",
      "source": [
        "sns.set(rc={'figure.figsize':(11.7,8.27)})"
      ],
      "metadata": {
        "id": "Uio1Hs0cAnJj"
      },
      "id": "Uio1Hs0cAnJj",
      "execution_count": null,
      "outputs": []
    },
    {
      "cell_type": "code",
      "execution_count": null,
      "id": "071452c3",
      "metadata": {
        "execution": {
          "iopub.execute_input": "2022-05-10T19:08:17.973975Z",
          "iopub.status.busy": "2022-05-10T19:08:17.973678Z",
          "iopub.status.idle": "2022-05-10T19:08:17.978533Z",
          "shell.execute_reply": "2022-05-10T19:08:17.977527Z"
        },
        "papermill": {
          "duration": 7.776678,
          "end_time": "2022-05-10T19:08:17.980826",
          "exception": false,
          "start_time": "2022-05-10T19:08:10.204148",
          "status": "completed"
        },
        "tags": [],
        "colab": {
          "base_uri": "https://localhost:8080/",
          "height": 1000
        },
        "id": "071452c3",
        "outputId": "f3e76fbc-2e19-4feb-89d2-924f718a17cd"
      },
      "outputs": [
        {
          "output_type": "display_data",
          "data": {
            "text/plain": [
              "<Figure size 842.4x595.44 with 1 Axes>"
            ],
            "image/png": "[encoded data removed]"
          },
          "metadata": {}
        },
        {
          "output_type": "display_data",
          "data": {
            "text/plain": [
              "<Figure size 842.4x595.44 with 1 Axes>"
            ],
            "image/png": "[encoded data removed]"
          },
          "metadata": {}
        }
      ],
      "source": [
        "history = pd.read_csv(\"mobilenetv2_history.csv\")\n",
        "\n",
        "plt.plot(history['epoch'], history['accuracy'])\n",
        "plt.plot(history['epoch'], history['val_accuracy'])\n",
        "plt.title('Model Accuracy MobileNetV2')\n",
        "plt.legend(['train', 'validation'])\n",
        "plt.xlabel('No. of Epochs')\n",
        "plt.ylabel('Accuracy')\n",
        "plt.figure()\n",
        "\n",
        "plt.plot(history['epoch'], history['loss'])\n",
        "plt.plot(history['epoch'], history['val_loss'])\n",
        "plt.title('Model Loss MobileNetV2')\n",
        "plt.legend(['train', 'validation'])\n",
        "plt.xlabel('No. of Epochs')\n",
        "plt.ylabel('Loss')\n",
        "plt.show()"
      ]
    }
  ],
  "metadata": {
    "kernelspec": {
      "display_name": "Python 3 (ipykernel)",
      "language": "python",
      "name": "python3"
    },
    "language_info": {
      "codemirror_mode": {
        "name": "ipython",
        "version": 3
      },
      "file_extension": ".py",
      "mimetype": "text/x-python",
      "name": "python",
      "nbconvert_exporter": "python",
      "pygments_lexer": "ipython3",
      "version": "3.7.11"
    },
    "papermill": {
      "default_parameters": {},
      "duration": 11668.215673,
      "end_time": "2022-05-10T19:08:42.076638",
      "environment_variables": {},
      "exception": null,
      "input_path": "__notebook__.ipynb",
      "output_path": "__notebook__.ipynb",
      "parameters": {},
      "start_time": "2022-05-10T15:54:13.860965",
      "version": "2.3.4"
    },
    "colab": {
      "name": "cxr-mobilenetv2-bp4.ipynb",
      "provenance": [],
      "collapsed_sections": []
    },
    "accelerator": "GPU"
  },
  "nbformat": 4,
  "nbformat_minor": 5
}